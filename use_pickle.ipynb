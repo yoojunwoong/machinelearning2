{
 "cells": [
  {
   "cell_type": "code",
   "execution_count": 1,
   "id": "088eaa20",
   "metadata": {},
   "outputs": [],
   "source": [
    "import pickle"
   ]
  },
  {
   "cell_type": "code",
   "execution_count": 3,
   "id": "9f7c8e5e",
   "metadata": {},
   "outputs": [
    {
     "data": {
      "text/plain": [
       "{'lion': 'yellow', 'tiger': 'red '}"
      ]
     },
     "execution_count": 3,
     "metadata": {},
     "output_type": "execute_result"
    }
   ],
   "source": [
    "favorite_load = pickle.load(open('./saves/favorite_save.pkl','rb'))\n",
    "favorite_load"
   ]
  },
  {
   "cell_type": "code",
   "execution_count": 4,
   "id": "0c8fc1cb",
   "metadata": {},
   "outputs": [
    {
     "data": {
      "text/plain": [
       "dict"
      ]
     },
     "execution_count": 4,
     "metadata": {},
     "output_type": "execute_result"
    }
   ],
   "source": [
    "type(favorite_load)"
   ]
  },
  {
   "cell_type": "code",
   "execution_count": 5,
   "id": "2e0746b7",
   "metadata": {},
   "outputs": [
    {
     "data": {
      "text/plain": [
       "'red '"
      ]
     },
     "execution_count": 5,
     "metadata": {},
     "output_type": "execute_result"
    }
   ],
   "source": [
    "favorite_load['tiger']"
   ]
  },
  {
   "cell_type": "code",
   "execution_count": 11,
   "id": "eafad6c3",
   "metadata": {},
   "outputs": [
    {
     "data": {
      "text/plain": [
       "LinearRegression()"
      ]
     },
     "execution_count": 11,
     "metadata": {},
     "output_type": "execute_result"
    }
   ],
   "source": [
    "autompg_lr = pickle.load(open('./saves/autompg_lr.pkl','rb'))\n",
    "autompg_lr"
   ]
  },
  {
   "cell_type": "code",
   "execution_count": 12,
   "id": "773d13c5",
   "metadata": {},
   "outputs": [
    {
     "data": {
      "text/plain": [
       "sklearn.linear_model._base.LinearRegression"
      ]
     },
     "execution_count": 12,
     "metadata": {},
     "output_type": "execute_result"
    }
   ],
   "source": [
    "type(autompg_lr)"
   ]
  },
  {
   "cell_type": "code",
   "execution_count": 13,
   "id": "0e1eb19e",
   "metadata": {},
   "outputs": [
    {
     "data": {
      "text/plain": [
       "array([[18.30511201]])"
      ]
     },
     "execution_count": 13,
     "metadata": {},
     "output_type": "execute_result"
    }
   ],
   "source": [
    "autompg_lr.predict([[3504.0,8]])"
   ]
  },
  {
   "cell_type": "code",
   "execution_count": null,
   "id": "766644bf",
   "metadata": {},
   "outputs": [],
   "source": []
  }
 ],
 "metadata": {
  "kernelspec": {
   "display_name": "Python 3",
   "language": "python",
   "name": "python3"
  },
  "language_info": {
   "codemirror_mode": {
    "name": "ipython",
    "version": 3
   },
   "file_extension": ".py",
   "mimetype": "text/x-python",
   "name": "python",
   "nbconvert_exporter": "python",
   "pygments_lexer": "ipython3",
   "version": "3.6.4"
  }
 },
 "nbformat": 4,
 "nbformat_minor": 5
}
