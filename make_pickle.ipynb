{
 "cells": [
  {
   "cell_type": "code",
   "execution_count": 1,
   "id": "72916a73",
   "metadata": {},
   "outputs": [],
   "source": [
    "import pickle"
   ]
  },
  {
   "cell_type": "code",
   "execution_count": 2,
   "id": "67ea2b56",
   "metadata": {},
   "outputs": [],
   "source": [
    "favorite = {'lion' : 'yellow', 'tiger' : 'red '}"
   ]
  },
  {
   "cell_type": "code",
   "execution_count": 5,
   "id": "9d65f7d7",
   "metadata": {},
   "outputs": [],
   "source": [
    "# as machine learning, favrorite ---> model variable\n",
    "pickle.dump(favorite, open('./saves/favorite_save.pkl', 'wb'))"
   ]
  },
  {
   "cell_type": "code",
   "execution_count": null,
   "id": "d4fefb6e",
   "metadata": {},
   "outputs": [],
   "source": []
  }
 ],
 "metadata": {
  "kernelspec": {
   "display_name": "Python 3",
   "language": "python",
   "name": "python3"
  },
  "language_info": {
   "codemirror_mode": {
    "name": "ipython",
    "version": 3
   },
   "file_extension": ".py",
   "mimetype": "text/x-python",
   "name": "python",
   "nbconvert_exporter": "python",
   "pygments_lexer": "ipython3",
   "version": "3.6.4"
  }
 },
 "nbformat": 4,
 "nbformat_minor": 5
}
