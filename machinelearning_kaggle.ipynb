{
 "cells": [
  {
   "cell_type": "code",
   "execution_count": 1,
   "id": "01242836",
   "metadata": {},
   "outputs": [],
   "source": [
    "import sklearn"
   ]
  },
  {
   "cell_type": "code",
   "execution_count": 2,
   "id": "9d33d9f3",
   "metadata": {},
   "outputs": [],
   "source": [
    "%load_ext autoreload\n",
    "%autoreload 2"
   ]
  },
  {
   "cell_type": "code",
   "execution_count": 3,
   "id": "6e598eed",
   "metadata": {},
   "outputs": [],
   "source": [
    "import pandas as pd"
   ]
  },
  {
   "cell_type": "code",
   "execution_count": 4,
   "id": "c0ca2601",
   "metadata": {},
   "outputs": [
    {
     "name": "stdout",
     "output_type": "stream",
     "text": [
      " C 드라이브의 볼륨에는 이름이 없습니다.\n",
      " 볼륨 일련 번호: 0C41-205E\n",
      "\n",
      " C:\\develops\\test_machinlearning\\files 디렉터리\n",
      "\n",
      "2021-06-30  오후 04:43        52,061,015 test0630.csv\n",
      "               1개 파일          52,061,015 바이트\n",
      "               0개 디렉터리   7,929,856,000 바이트 남음\n"
     ]
    }
   ],
   "source": [
    "!dir .\\files\\test0630.csv"
   ]
  },
  {
   "cell_type": "code",
   "execution_count": 5,
   "id": "8e95d5f8",
   "metadata": {},
   "outputs": [
    {
     "name": "stdout",
     "output_type": "stream",
     "text": [
      " C 드라이브의 볼륨에는 이름이 없습니다.\n",
      " 볼륨 일련 번호: 0C41-205E\n",
      "\n",
      " C:\\develops\\test_machinlearning\\files 디렉터리\n",
      "\n",
      "2021-06-30  오후 04:44       109,348,313 train.csv\n",
      "               1개 파일         109,348,313 바이트\n",
      "               0개 디렉터리   7,929,843,712 바이트 남음\n"
     ]
    }
   ],
   "source": [
    "!dir .\\files\\train.csv"
   ]
  },
  {
   "cell_type": "code",
   "execution_count": 6,
   "id": "71772351",
   "metadata": {},
   "outputs": [
    {
     "name": "stdout",
     "output_type": "stream",
     "text": [
      "<class 'pandas.core.frame.DataFrame'>\n",
      "RangeIndex: 625134 entries, 0 to 625133\n",
      "Data columns (total 9 columns):\n",
      " #   Column  Non-Null Count   Dtype  \n",
      "---  ------  --------------   -----  \n",
      " 0   0       625134 non-null  object \n",
      " 1   1       625134 non-null  int64  \n",
      " 2   2       625134 non-null  object \n",
      " 3   3       625134 non-null  int64  \n",
      " 4   4       625134 non-null  float64\n",
      " 5   5       625134 non-null  float64\n",
      " 6   6       625134 non-null  float64\n",
      " 7   7       625134 non-null  float64\n",
      " 8   8       625134 non-null  object \n",
      "dtypes: float64(4), int64(2), object(3)\n",
      "memory usage: 42.9+ MB\n"
     ]
    }
   ],
   "source": [
    "pd_data1 = pd.read_csv('./files/test0630.csv', header = None)\n",
    "pd_data1.info()"
   ]
  },
  {
   "cell_type": "code",
   "execution_count": 7,
   "id": "2c9cdcac",
   "metadata": {},
   "outputs": [
    {
     "name": "stdout",
     "output_type": "stream",
     "text": [
      "<class 'pandas.core.frame.DataFrame'>\n",
      "RangeIndex: 1048575 entries, 0 to 1048574\n",
      "Data columns (total 11 columns):\n",
      " #   Column  Non-Null Count    Dtype  \n",
      "---  ------  --------------    -----  \n",
      " 0   0       1048575 non-null  object \n",
      " 1   1       1048575 non-null  int64  \n",
      " 2   2       1048575 non-null  object \n",
      " 3   3       1048575 non-null  object \n",
      " 4   4       1048575 non-null  int64  \n",
      " 5   5       1048575 non-null  float64\n",
      " 6   6       1048575 non-null  float64\n",
      " 7   7       1048575 non-null  float64\n",
      " 8   8       1048575 non-null  float64\n",
      " 9   9       1048575 non-null  object \n",
      " 10  10      1048575 non-null  int64  \n",
      "dtypes: float64(4), int64(3), object(4)\n",
      "memory usage: 88.0+ MB\n"
     ]
    }
   ],
   "source": [
    "pd_data2 = pd.read_csv('./files/train.csv', header = None)\n",
    "pd_data2.info()"
   ]
  },
  {
   "cell_type": "code",
   "execution_count": 8,
   "id": "45a6ab0d",
   "metadata": {},
   "outputs": [
    {
     "data": {
      "text/plain": [
       "((625134, 9), (1048575, 11))"
      ]
     },
     "execution_count": 8,
     "metadata": {},
     "output_type": "execute_result"
    }
   ],
   "source": [
    "pd_data1.shape, pd_data2.shape"
   ]
  },
  {
   "cell_type": "code",
   "execution_count": 9,
   "id": "455bd59b",
   "metadata": {},
   "outputs": [
    {
     "data": {
      "text/html": [
       "<div>\n",
       "<style scoped>\n",
       "    .dataframe tbody tr th:only-of-type {\n",
       "        vertical-align: middle;\n",
       "    }\n",
       "\n",
       "    .dataframe tbody tr th {\n",
       "        vertical-align: top;\n",
       "    }\n",
       "\n",
       "    .dataframe thead th {\n",
       "        text-align: right;\n",
       "    }\n",
       "</style>\n",
       "<table border=\"1\" class=\"dataframe\">\n",
       "  <thead>\n",
       "    <tr style=\"text-align: right;\">\n",
       "      <th></th>\n",
       "      <th>id</th>\n",
       "      <th>vendor_id</th>\n",
       "      <th>pickup_datetime</th>\n",
       "      <th>dropoff_datetime</th>\n",
       "      <th>passenger_count</th>\n",
       "      <th>pickup_longitude</th>\n",
       "      <th>pickup_latitude</th>\n",
       "      <th>dropoff_longitude</th>\n",
       "      <th>dropoff_latitude</th>\n",
       "    </tr>\n",
       "  </thead>\n",
       "  <tbody>\n",
       "    <tr>\n",
       "      <th>0</th>\n",
       "      <td>id3004672</td>\n",
       "      <td>1</td>\n",
       "      <td>2016-06-30 23:59</td>\n",
       "      <td>1</td>\n",
       "      <td>-73.988129</td>\n",
       "      <td>40.732029</td>\n",
       "      <td>-73.990173</td>\n",
       "      <td>40.756680</td>\n",
       "      <td>N</td>\n",
       "    </tr>\n",
       "    <tr>\n",
       "      <th>1</th>\n",
       "      <td>id3505355</td>\n",
       "      <td>1</td>\n",
       "      <td>2016-06-30 23:59</td>\n",
       "      <td>1</td>\n",
       "      <td>-73.964203</td>\n",
       "      <td>40.679993</td>\n",
       "      <td>-73.959808</td>\n",
       "      <td>40.655403</td>\n",
       "      <td>N</td>\n",
       "    </tr>\n",
       "    <tr>\n",
       "      <th>2</th>\n",
       "      <td>id1217141</td>\n",
       "      <td>1</td>\n",
       "      <td>2016-06-30 23:59</td>\n",
       "      <td>1</td>\n",
       "      <td>-73.997437</td>\n",
       "      <td>40.737583</td>\n",
       "      <td>-73.986160</td>\n",
       "      <td>40.729523</td>\n",
       "      <td>N</td>\n",
       "    </tr>\n",
       "    <tr>\n",
       "      <th>3</th>\n",
       "      <td>id2150126</td>\n",
       "      <td>2</td>\n",
       "      <td>2016-06-30 23:59</td>\n",
       "      <td>1</td>\n",
       "      <td>-73.956070</td>\n",
       "      <td>40.771900</td>\n",
       "      <td>-73.986427</td>\n",
       "      <td>40.730469</td>\n",
       "      <td>N</td>\n",
       "    </tr>\n",
       "    <tr>\n",
       "      <th>4</th>\n",
       "      <td>id1598245</td>\n",
       "      <td>1</td>\n",
       "      <td>2016-06-30 23:59</td>\n",
       "      <td>1</td>\n",
       "      <td>-73.970215</td>\n",
       "      <td>40.761475</td>\n",
       "      <td>-73.961510</td>\n",
       "      <td>40.755890</td>\n",
       "      <td>N</td>\n",
       "    </tr>\n",
       "    <tr>\n",
       "      <th>...</th>\n",
       "      <td>...</td>\n",
       "      <td>...</td>\n",
       "      <td>...</td>\n",
       "      <td>...</td>\n",
       "      <td>...</td>\n",
       "      <td>...</td>\n",
       "      <td>...</td>\n",
       "      <td>...</td>\n",
       "      <td>...</td>\n",
       "    </tr>\n",
       "    <tr>\n",
       "      <th>625129</th>\n",
       "      <td>id3008929</td>\n",
       "      <td>1</td>\n",
       "      <td>2016-01-01 0:02</td>\n",
       "      <td>1</td>\n",
       "      <td>-74.003464</td>\n",
       "      <td>40.725105</td>\n",
       "      <td>-74.001251</td>\n",
       "      <td>40.733643</td>\n",
       "      <td>N</td>\n",
       "    </tr>\n",
       "    <tr>\n",
       "      <th>625130</th>\n",
       "      <td>id3700764</td>\n",
       "      <td>1</td>\n",
       "      <td>2016-01-01 0:01</td>\n",
       "      <td>1</td>\n",
       "      <td>-74.006363</td>\n",
       "      <td>40.743782</td>\n",
       "      <td>-73.953407</td>\n",
       "      <td>40.782467</td>\n",
       "      <td>N</td>\n",
       "    </tr>\n",
       "    <tr>\n",
       "      <th>625131</th>\n",
       "      <td>id2568735</td>\n",
       "      <td>1</td>\n",
       "      <td>2016-01-01 0:01</td>\n",
       "      <td>2</td>\n",
       "      <td>-73.972267</td>\n",
       "      <td>40.759865</td>\n",
       "      <td>-73.876602</td>\n",
       "      <td>40.748665</td>\n",
       "      <td>N</td>\n",
       "    </tr>\n",
       "    <tr>\n",
       "      <th>625132</th>\n",
       "      <td>id1384355</td>\n",
       "      <td>1</td>\n",
       "      <td>2016-01-01 0:00</td>\n",
       "      <td>1</td>\n",
       "      <td>-73.976501</td>\n",
       "      <td>40.733562</td>\n",
       "      <td>-73.854263</td>\n",
       "      <td>40.891788</td>\n",
       "      <td>N</td>\n",
       "    </tr>\n",
       "    <tr>\n",
       "      <th>625133</th>\n",
       "      <td>id0621643</td>\n",
       "      <td>2</td>\n",
       "      <td>2016-01-01 0:00</td>\n",
       "      <td>2</td>\n",
       "      <td>-73.981850</td>\n",
       "      <td>40.716881</td>\n",
       "      <td>-73.969330</td>\n",
       "      <td>40.769379</td>\n",
       "      <td>N</td>\n",
       "    </tr>\n",
       "  </tbody>\n",
       "</table>\n",
       "<p>625134 rows × 9 columns</p>\n",
       "</div>"
      ],
      "text/plain": [
       "               id  vendor_id   pickup_datetime  dropoff_datetime  \\\n",
       "0       id3004672          1  2016-06-30 23:59                 1   \n",
       "1       id3505355          1  2016-06-30 23:59                 1   \n",
       "2       id1217141          1  2016-06-30 23:59                 1   \n",
       "3       id2150126          2  2016-06-30 23:59                 1   \n",
       "4       id1598245          1  2016-06-30 23:59                 1   \n",
       "...           ...        ...               ...               ...   \n",
       "625129  id3008929          1   2016-01-01 0:02                 1   \n",
       "625130  id3700764          1   2016-01-01 0:01                 1   \n",
       "625131  id2568735          1   2016-01-01 0:01                 2   \n",
       "625132  id1384355          1   2016-01-01 0:00                 1   \n",
       "625133  id0621643          2   2016-01-01 0:00                 2   \n",
       "\n",
       "        passenger_count  pickup_longitude  pickup_latitude  dropoff_longitude  \\\n",
       "0            -73.988129         40.732029       -73.990173          40.756680   \n",
       "1            -73.964203         40.679993       -73.959808          40.655403   \n",
       "2            -73.997437         40.737583       -73.986160          40.729523   \n",
       "3            -73.956070         40.771900       -73.986427          40.730469   \n",
       "4            -73.970215         40.761475       -73.961510          40.755890   \n",
       "...                 ...               ...              ...                ...   \n",
       "625129       -74.003464         40.725105       -74.001251          40.733643   \n",
       "625130       -74.006363         40.743782       -73.953407          40.782467   \n",
       "625131       -73.972267         40.759865       -73.876602          40.748665   \n",
       "625132       -73.976501         40.733562       -73.854263          40.891788   \n",
       "625133       -73.981850         40.716881       -73.969330          40.769379   \n",
       "\n",
       "       dropoff_latitude  \n",
       "0                     N  \n",
       "1                     N  \n",
       "2                     N  \n",
       "3                     N  \n",
       "4                     N  \n",
       "...                 ...  \n",
       "625129                N  \n",
       "625130                N  \n",
       "625131                N  \n",
       "625132                N  \n",
       "625133                N  \n",
       "\n",
       "[625134 rows x 9 columns]"
      ]
     },
     "execution_count": 9,
     "metadata": {},
     "output_type": "execute_result"
    }
   ],
   "source": [
    "pd_data1.columns = ['id','vendor_id','pickup_datetime','dropoff_datetime','passenger_count','pickup_longitude','pickup_latitude',\n",
    "                    'dropoff_longitude','dropoff_latitude']\n",
    "pd_data1"
   ]
  },
  {
   "cell_type": "code",
   "execution_count": 10,
   "id": "2a6e4ba4",
   "metadata": {
    "scrolled": true
   },
   "outputs": [
    {
     "data": {
      "text/html": [
       "<div>\n",
       "<style scoped>\n",
       "    .dataframe tbody tr th:only-of-type {\n",
       "        vertical-align: middle;\n",
       "    }\n",
       "\n",
       "    .dataframe tbody tr th {\n",
       "        vertical-align: top;\n",
       "    }\n",
       "\n",
       "    .dataframe thead th {\n",
       "        text-align: right;\n",
       "    }\n",
       "</style>\n",
       "<table border=\"1\" class=\"dataframe\">\n",
       "  <thead>\n",
       "    <tr style=\"text-align: right;\">\n",
       "      <th></th>\n",
       "      <th>id</th>\n",
       "      <th>vendor_id</th>\n",
       "      <th>pickup_datetime</th>\n",
       "      <th>dropoff_datetime</th>\n",
       "      <th>passenger_count</th>\n",
       "      <th>pickup_longitude</th>\n",
       "      <th>pickup_latitude</th>\n",
       "      <th>dropoff_longitude</th>\n",
       "      <th>dropoff_latitude</th>\n",
       "      <th>store_and_fwd_flag</th>\n",
       "      <th>trip_duration</th>\n",
       "    </tr>\n",
       "  </thead>\n",
       "  <tbody>\n",
       "    <tr>\n",
       "      <th>0</th>\n",
       "      <td>id2875421</td>\n",
       "      <td>2</td>\n",
       "      <td>2016-03-14 17:24</td>\n",
       "      <td>2016-03-14 17:32</td>\n",
       "      <td>1</td>\n",
       "      <td>-73.982155</td>\n",
       "      <td>40.767937</td>\n",
       "      <td>-73.964630</td>\n",
       "      <td>40.765602</td>\n",
       "      <td>N</td>\n",
       "      <td>455</td>\n",
       "    </tr>\n",
       "    <tr>\n",
       "      <th>1</th>\n",
       "      <td>id2377394</td>\n",
       "      <td>1</td>\n",
       "      <td>2016-06-12 0:43</td>\n",
       "      <td>2016-06-12 0:54</td>\n",
       "      <td>1</td>\n",
       "      <td>-73.980415</td>\n",
       "      <td>40.738564</td>\n",
       "      <td>-73.999481</td>\n",
       "      <td>40.731152</td>\n",
       "      <td>N</td>\n",
       "      <td>663</td>\n",
       "    </tr>\n",
       "    <tr>\n",
       "      <th>2</th>\n",
       "      <td>id3858529</td>\n",
       "      <td>2</td>\n",
       "      <td>2016-01-19 11:35</td>\n",
       "      <td>2016-01-19 12:10</td>\n",
       "      <td>1</td>\n",
       "      <td>-73.979027</td>\n",
       "      <td>40.763939</td>\n",
       "      <td>-74.005333</td>\n",
       "      <td>40.710087</td>\n",
       "      <td>N</td>\n",
       "      <td>2124</td>\n",
       "    </tr>\n",
       "    <tr>\n",
       "      <th>3</th>\n",
       "      <td>id3504673</td>\n",
       "      <td>2</td>\n",
       "      <td>2016-04-06 19:32</td>\n",
       "      <td>2016-04-06 19:39</td>\n",
       "      <td>1</td>\n",
       "      <td>-74.010040</td>\n",
       "      <td>40.719971</td>\n",
       "      <td>-74.012268</td>\n",
       "      <td>40.706718</td>\n",
       "      <td>N</td>\n",
       "      <td>429</td>\n",
       "    </tr>\n",
       "    <tr>\n",
       "      <th>4</th>\n",
       "      <td>id2181028</td>\n",
       "      <td>2</td>\n",
       "      <td>2016-03-26 13:30</td>\n",
       "      <td>2016-03-26 13:38</td>\n",
       "      <td>1</td>\n",
       "      <td>-73.973053</td>\n",
       "      <td>40.793209</td>\n",
       "      <td>-73.972923</td>\n",
       "      <td>40.782520</td>\n",
       "      <td>N</td>\n",
       "      <td>435</td>\n",
       "    </tr>\n",
       "    <tr>\n",
       "      <th>...</th>\n",
       "      <td>...</td>\n",
       "      <td>...</td>\n",
       "      <td>...</td>\n",
       "      <td>...</td>\n",
       "      <td>...</td>\n",
       "      <td>...</td>\n",
       "      <td>...</td>\n",
       "      <td>...</td>\n",
       "      <td>...</td>\n",
       "      <td>...</td>\n",
       "      <td>...</td>\n",
       "    </tr>\n",
       "    <tr>\n",
       "      <th>1048570</th>\n",
       "      <td>id0002921</td>\n",
       "      <td>1</td>\n",
       "      <td>2016-04-06 14:16</td>\n",
       "      <td>2016-04-06 14:20</td>\n",
       "      <td>1</td>\n",
       "      <td>-73.973015</td>\n",
       "      <td>40.760948</td>\n",
       "      <td>-73.976387</td>\n",
       "      <td>40.755604</td>\n",
       "      <td>N</td>\n",
       "      <td>207</td>\n",
       "    </tr>\n",
       "    <tr>\n",
       "      <th>1048571</th>\n",
       "      <td>id1329189</td>\n",
       "      <td>2</td>\n",
       "      <td>2016-03-24 1:26</td>\n",
       "      <td>2016-03-24 1:38</td>\n",
       "      <td>1</td>\n",
       "      <td>-73.985550</td>\n",
       "      <td>40.727257</td>\n",
       "      <td>-73.957039</td>\n",
       "      <td>40.712387</td>\n",
       "      <td>N</td>\n",
       "      <td>740</td>\n",
       "    </tr>\n",
       "    <tr>\n",
       "      <th>1048572</th>\n",
       "      <td>id0408460</td>\n",
       "      <td>1</td>\n",
       "      <td>2016-02-23 16:38</td>\n",
       "      <td>2016-02-23 16:48</td>\n",
       "      <td>1</td>\n",
       "      <td>-73.972038</td>\n",
       "      <td>40.750202</td>\n",
       "      <td>-73.998360</td>\n",
       "      <td>40.733360</td>\n",
       "      <td>N</td>\n",
       "      <td>605</td>\n",
       "    </tr>\n",
       "    <tr>\n",
       "      <th>1048573</th>\n",
       "      <td>id0147762</td>\n",
       "      <td>1</td>\n",
       "      <td>2016-05-24 7:20</td>\n",
       "      <td>2016-05-24 7:25</td>\n",
       "      <td>1</td>\n",
       "      <td>-73.993332</td>\n",
       "      <td>40.724342</td>\n",
       "      <td>-74.004250</td>\n",
       "      <td>40.707470</td>\n",
       "      <td>N</td>\n",
       "      <td>287</td>\n",
       "    </tr>\n",
       "    <tr>\n",
       "      <th>1048574</th>\n",
       "      <td>id0859354</td>\n",
       "      <td>2</td>\n",
       "      <td>2016-03-15 22:00</td>\n",
       "      <td>2016-03-15 22:19</td>\n",
       "      <td>1</td>\n",
       "      <td>-73.988060</td>\n",
       "      <td>40.759548</td>\n",
       "      <td>-74.005585</td>\n",
       "      <td>40.711521</td>\n",
       "      <td>N</td>\n",
       "      <td>1169</td>\n",
       "    </tr>\n",
       "  </tbody>\n",
       "</table>\n",
       "<p>1048575 rows × 11 columns</p>\n",
       "</div>"
      ],
      "text/plain": [
       "                id  vendor_id   pickup_datetime  dropoff_datetime  \\\n",
       "0        id2875421          2  2016-03-14 17:24  2016-03-14 17:32   \n",
       "1        id2377394          1   2016-06-12 0:43   2016-06-12 0:54   \n",
       "2        id3858529          2  2016-01-19 11:35  2016-01-19 12:10   \n",
       "3        id3504673          2  2016-04-06 19:32  2016-04-06 19:39   \n",
       "4        id2181028          2  2016-03-26 13:30  2016-03-26 13:38   \n",
       "...            ...        ...               ...               ...   \n",
       "1048570  id0002921          1  2016-04-06 14:16  2016-04-06 14:20   \n",
       "1048571  id1329189          2   2016-03-24 1:26   2016-03-24 1:38   \n",
       "1048572  id0408460          1  2016-02-23 16:38  2016-02-23 16:48   \n",
       "1048573  id0147762          1   2016-05-24 7:20   2016-05-24 7:25   \n",
       "1048574  id0859354          2  2016-03-15 22:00  2016-03-15 22:19   \n",
       "\n",
       "         passenger_count  pickup_longitude  pickup_latitude  \\\n",
       "0                      1        -73.982155        40.767937   \n",
       "1                      1        -73.980415        40.738564   \n",
       "2                      1        -73.979027        40.763939   \n",
       "3                      1        -74.010040        40.719971   \n",
       "4                      1        -73.973053        40.793209   \n",
       "...                  ...               ...              ...   \n",
       "1048570                1        -73.973015        40.760948   \n",
       "1048571                1        -73.985550        40.727257   \n",
       "1048572                1        -73.972038        40.750202   \n",
       "1048573                1        -73.993332        40.724342   \n",
       "1048574                1        -73.988060        40.759548   \n",
       "\n",
       "         dropoff_longitude  dropoff_latitude store_and_fwd_flag  trip_duration  \n",
       "0               -73.964630         40.765602                  N            455  \n",
       "1               -73.999481         40.731152                  N            663  \n",
       "2               -74.005333         40.710087                  N           2124  \n",
       "3               -74.012268         40.706718                  N            429  \n",
       "4               -73.972923         40.782520                  N            435  \n",
       "...                    ...               ...                ...            ...  \n",
       "1048570         -73.976387         40.755604                  N            207  \n",
       "1048571         -73.957039         40.712387                  N            740  \n",
       "1048572         -73.998360         40.733360                  N            605  \n",
       "1048573         -74.004250         40.707470                  N            287  \n",
       "1048574         -74.005585         40.711521                  N           1169  \n",
       "\n",
       "[1048575 rows x 11 columns]"
      ]
     },
     "execution_count": 10,
     "metadata": {},
     "output_type": "execute_result"
    }
   ],
   "source": [
    "pd_data2.columns = ['id','vendor_id','pickup_datetime','dropoff_datetime','passenger_count','pickup_longitude','pickup_latitude',\n",
    "                    'dropoff_longitude','dropoff_latitude','store_and_fwd_flag','trip_duration']\n",
    "pd_data2"
   ]
  },
  {
   "cell_type": "code",
   "execution_count": 11,
   "id": "759e2ecc",
   "metadata": {
    "scrolled": true
   },
   "outputs": [
    {
     "name": "stdout",
     "output_type": "stream",
     "text": [
      "<class 'pandas.core.frame.DataFrame'>\n",
      "RangeIndex: 1048575 entries, 0 to 1048574\n",
      "Data columns (total 11 columns):\n",
      " #   Column              Non-Null Count    Dtype  \n",
      "---  ------              --------------    -----  \n",
      " 0   id                  1048575 non-null  object \n",
      " 1   vendor_id           1048575 non-null  int64  \n",
      " 2   pickup_datetime     1048575 non-null  object \n",
      " 3   dropoff_datetime    1048575 non-null  object \n",
      " 4   passenger_count     1048575 non-null  int64  \n",
      " 5   pickup_longitude    1048575 non-null  float64\n",
      " 6   pickup_latitude     1048575 non-null  float64\n",
      " 7   dropoff_longitude   1048575 non-null  float64\n",
      " 8   dropoff_latitude    1048575 non-null  float64\n",
      " 9   store_and_fwd_flag  1048575 non-null  object \n",
      " 10  trip_duration       1048575 non-null  int64  \n",
      "dtypes: float64(4), int64(3), object(4)\n",
      "memory usage: 88.0+ MB\n"
     ]
    }
   ],
   "source": [
    "pd_data2.info()"
   ]
  },
  {
   "cell_type": "code",
   "execution_count": 12,
   "id": "04a4618c",
   "metadata": {},
   "outputs": [],
   "source": [
    "x2= pd_data2[['passenger_count']]"
   ]
  },
  {
   "cell_type": "code",
   "execution_count": 13,
   "id": "61456bd0",
   "metadata": {},
   "outputs": [],
   "source": [
    "y2 = pd_data2[['trip_duration']]"
   ]
  },
  {
   "cell_type": "code",
   "execution_count": 14,
   "id": "a02712b3",
   "metadata": {},
   "outputs": [
    {
     "data": {
      "text/plain": [
       "((1048575, 1), (1048575, 1))"
      ]
     },
     "execution_count": 14,
     "metadata": {},
     "output_type": "execute_result"
    }
   ],
   "source": [
    "x2.shape, y2.shape"
   ]
  },
  {
   "cell_type": "code",
   "execution_count": 15,
   "id": "dbf4cfdf",
   "metadata": {},
   "outputs": [],
   "source": [
    "from sklearn.model_selection import train_test_split"
   ]
  },
  {
   "cell_type": "code",
   "execution_count": 16,
   "id": "2c73d744",
   "metadata": {},
   "outputs": [
    {
     "data": {
      "text/plain": [
       "((786431, 1), (262144, 1), (786431, 1), (786431, 1))"
      ]
     },
     "execution_count": 16,
     "metadata": {},
     "output_type": "execute_result"
    }
   ],
   "source": [
    "x2_train, x2_test, y2_train, y2_test = train_test_split(x2,y2)\n",
    "x2_train.shape, x2_test.shape, y2_train.shape, y2_train.shape"
   ]
  },
  {
   "cell_type": "code",
   "execution_count": 17,
   "id": "9a225ea0",
   "metadata": {},
   "outputs": [],
   "source": [
    "from sklearn.linear_model import LinearRegression"
   ]
  },
  {
   "cell_type": "code",
   "execution_count": 18,
   "id": "9b972695",
   "metadata": {},
   "outputs": [],
   "source": [
    "lr = LinearRegression()"
   ]
  },
  {
   "cell_type": "code",
   "execution_count": 19,
   "id": "ec255763",
   "metadata": {},
   "outputs": [
    {
     "data": {
      "text/plain": [
       "LinearRegression()"
      ]
     },
     "execution_count": 19,
     "metadata": {},
     "output_type": "execute_result"
    }
   ],
   "source": [
    "lr.fit(x2,y2)"
   ]
  },
  {
   "cell_type": "code",
   "execution_count": 20,
   "id": "5f489bec",
   "metadata": {},
   "outputs": [
    {
     "data": {
      "text/plain": [
       "(array([[31.83685851]]), array([909.15610066]))"
      ]
     },
     "execution_count": 20,
     "metadata": {},
     "output_type": "execute_result"
    }
   ],
   "source": [
    "lr.coef_, lr.intercept_"
   ]
  },
  {
   "cell_type": "code",
   "execution_count": 21,
   "id": "d5584674",
   "metadata": {},
   "outputs": [
    {
     "data": {
      "text/plain": [
       "5.11053089228275e-05"
      ]
     },
     "execution_count": 21,
     "metadata": {},
     "output_type": "execute_result"
    }
   ],
   "source": [
    "lr.score(x2,y2)"
   ]
  },
  {
   "cell_type": "code",
   "execution_count": 22,
   "id": "d3c9d0bb",
   "metadata": {},
   "outputs": [
    {
     "data": {
      "text/plain": [
       "0.00017881155968824114"
      ]
     },
     "execution_count": 22,
     "metadata": {},
     "output_type": "execute_result"
    }
   ],
   "source": [
    "lr.score(x2_test,y2_test)"
   ]
  },
  {
   "cell_type": "code",
   "execution_count": 23,
   "id": "9e8c0e4d",
   "metadata": {},
   "outputs": [
    {
     "data": {
      "text/plain": [
       "3.941249332739538e-05"
      ]
     },
     "execution_count": 23,
     "metadata": {},
     "output_type": "execute_result"
    }
   ],
   "source": [
    "lr.score(x2_train,y2_train)"
   ]
  },
  {
   "cell_type": "code",
   "execution_count": 25,
   "id": "c3e801bf",
   "metadata": {},
   "outputs": [
    {
     "data": {
      "text/plain": [
       "array([[940.99295918]])"
      ]
     },
     "execution_count": 25,
     "metadata": {},
     "output_type": "execute_result"
    }
   ],
   "source": [
    "lr.predict([[1]])"
   ]
  },
  {
   "cell_type": "markdown",
   "id": "79ae93ba",
   "metadata": {},
   "source": [
    "predict할 데이터의 값이 1로 일정함....... 새로운 x값을도입해야 할것 같음...\n",
    "또...정확도면에서 상당히 떨어지고, x의 유동값이 필요 할것 같음"
   ]
  },
  {
   "cell_type": "code",
   "execution_count": 26,
   "id": "9342cda2",
   "metadata": {},
   "outputs": [],
   "source": [
    "import pickle"
   ]
  },
  {
   "cell_type": "code",
   "execution_count": 28,
   "id": "da997659",
   "metadata": {},
   "outputs": [],
   "source": [
    "pickle.dump(lr, open('./saves/kaggle_lr.pkl','wb'))"
   ]
  },
  {
   "cell_type": "code",
   "execution_count": 31,
   "id": "6e8f84d8",
   "metadata": {},
   "outputs": [
    {
     "data": {
      "text/plain": [
       "((786431, 1), (786431, 1))"
      ]
     },
     "execution_count": 31,
     "metadata": {},
     "output_type": "execute_result"
    }
   ],
   "source": [
    "y2_predict = lr.predict(x2_train)\n",
    "y2_predict.shape, y2_train.shape"
   ]
  },
  {
   "cell_type": "code",
   "execution_count": 32,
   "id": "cbc222b1",
   "metadata": {},
   "outputs": [
    {
     "data": {
      "text/html": [
       "<div>\n",
       "<style scoped>\n",
       "    .dataframe tbody tr th:only-of-type {\n",
       "        vertical-align: middle;\n",
       "    }\n",
       "\n",
       "    .dataframe tbody tr th {\n",
       "        vertical-align: top;\n",
       "    }\n",
       "\n",
       "    .dataframe thead th {\n",
       "        text-align: right;\n",
       "    }\n",
       "</style>\n",
       "<table border=\"1\" class=\"dataframe\">\n",
       "  <thead>\n",
       "    <tr style=\"text-align: right;\">\n",
       "      <th></th>\n",
       "      <th>trip_duration</th>\n",
       "    </tr>\n",
       "  </thead>\n",
       "  <tbody>\n",
       "    <tr>\n",
       "      <th>652528</th>\n",
       "      <td>240.659607</td>\n",
       "    </tr>\n",
       "    <tr>\n",
       "      <th>138539</th>\n",
       "      <td>-760.992959</td>\n",
       "    </tr>\n",
       "    <tr>\n",
       "      <th>996672</th>\n",
       "      <td>-931.992959</td>\n",
       "    </tr>\n",
       "    <tr>\n",
       "      <th>818781</th>\n",
       "      <td>179.007041</td>\n",
       "    </tr>\n",
       "    <tr>\n",
       "      <th>355952</th>\n",
       "      <td>-353.992959</td>\n",
       "    </tr>\n",
       "    <tr>\n",
       "      <th>...</th>\n",
       "      <td>...</td>\n",
       "    </tr>\n",
       "    <tr>\n",
       "      <th>124287</th>\n",
       "      <td>-447.992959</td>\n",
       "    </tr>\n",
       "    <tr>\n",
       "      <th>654486</th>\n",
       "      <td>-705.992959</td>\n",
       "    </tr>\n",
       "    <tr>\n",
       "      <th>908428</th>\n",
       "      <td>-630.992959</td>\n",
       "    </tr>\n",
       "    <tr>\n",
       "      <th>1015913</th>\n",
       "      <td>-385.992959</td>\n",
       "    </tr>\n",
       "    <tr>\n",
       "      <th>482180</th>\n",
       "      <td>-298.829818</td>\n",
       "    </tr>\n",
       "  </tbody>\n",
       "</table>\n",
       "<p>786431 rows × 1 columns</p>\n",
       "</div>"
      ],
      "text/plain": [
       "         trip_duration\n",
       "652528      240.659607\n",
       "138539     -760.992959\n",
       "996672     -931.992959\n",
       "818781      179.007041\n",
       "355952     -353.992959\n",
       "...                ...\n",
       "124287     -447.992959\n",
       "654486     -705.992959\n",
       "908428     -630.992959\n",
       "1015913    -385.992959\n",
       "482180     -298.829818\n",
       "\n",
       "[786431 rows x 1 columns]"
      ]
     },
     "execution_count": 32,
     "metadata": {},
     "output_type": "execute_result"
    }
   ],
   "source": [
    "y2_result = y2_train - y2_predict \n",
    "y2_result"
   ]
  },
  {
   "cell_type": "code",
   "execution_count": 33,
   "id": "60b43465",
   "metadata": {},
   "outputs": [
    {
     "data": {
      "text/plain": [
       "3.941249332739538e-05"
      ]
     },
     "execution_count": 33,
     "metadata": {},
     "output_type": "execute_result"
    }
   ],
   "source": [
    "lr.score(x2_train, y2_train)"
   ]
  },
  {
   "cell_type": "code",
   "execution_count": null,
   "id": "62b30d1f",
   "metadata": {},
   "outputs": [],
   "source": []
  }
 ],
 "metadata": {
  "kernelspec": {
   "display_name": "Python 3",
   "language": "python",
   "name": "python3"
  },
  "language_info": {
   "codemirror_mode": {
    "name": "ipython",
    "version": 3
   },
   "file_extension": ".py",
   "mimetype": "text/x-python",
   "name": "python",
   "nbconvert_exporter": "python",
   "pygments_lexer": "ipython3",
   "version": "3.6.4"
  }
 },
 "nbformat": 4,
 "nbformat_minor": 5
}
